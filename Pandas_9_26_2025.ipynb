{
  "nbformat": 4,
  "nbformat_minor": 0,
  "metadata": {
    "colab": {
      "provenance": [],
      "include_colab_link": true
    },
    "kernelspec": {
      "name": "python3",
      "display_name": "Python 3"
    },
    "language_info": {
      "name": "python"
    }
  },
  "cells": [
    {
      "cell_type": "markdown",
      "metadata": {
        "id": "view-in-github",
        "colab_type": "text"
      },
      "source": [
        "<a href=\"https://colab.research.google.com/github/meredith224/Pandas_DE_Academy/blob/main/Pandas_9_26_2025.ipynb\" target=\"_parent\"><img src=\"https://colab.research.google.com/assets/colab-badge.svg\" alt=\"Open In Colab\"/></a>"
      ]
    },
    {
      "cell_type": "code",
      "execution_count": null,
      "metadata": {
        "colab": {
          "base_uri": "https://localhost:8080/"
        },
        "id": "l6t_IWEQtwGA",
        "outputId": "c5397fcb-8428-48ee-a0cf-2d9c15d64431"
      },
      "outputs": [
        {
          "output_type": "stream",
          "name": "stdout",
          "text": [
            "Customers:\n",
            "    CustomerID     Name            Email SignupDate\n",
            "0           1    Alice  alice@email.com 2024-01-10\n",
            "1           2      Bob    bob@email.com 2024-03-15\n",
            "2           3  Charlie             None 2024-03-20\n",
            "3           4    Diana  diana@email.com 2024-05-01\n",
            "4           5    Ethan  ethan@email.com        NaT \n",
            "\n",
            "Orders:\n",
            "    OrderID  CustomerID     Product  Quantity\n",
            "0      101           1         Pen         2\n",
            "1      102           2    Notebook         1\n",
            "2      103           2         Pen         3\n",
            "3      104           3    Backpack         1\n",
            "4      105           6  Calculator         2\n",
            "5      106           2         Pen         5 \n",
            "\n"
          ]
        }
      ],
      "source": [
        "# --- Block 1: Generate Two Demo Datasets ---\n",
        "import pandas as pd\n",
        "import numpy as np\n",
        "\n",
        "# Customers dataset\n",
        "customers_data = {\n",
        "    \"CustomerID\": [1, 2, 3, 4, 5],\n",
        "    \"Name\": [\"Alice\", \"Bob\", \"Charlie\", \"Diana\", \"Ethan\"],\n",
        "    \"Email\": [\"alice@email.com\", \"bob@email.com\", None, \"diana@email.com\", \"ethan@email.com\"],\n",
        "    \"SignupDate\": pd.to_datetime([\"2024-01-10\", \"2024-03-15\", \"2024-03-20\", \"2024-05-01\", None])\n",
        "}\n",
        "customers = pd.DataFrame(customers_data)\n",
        "\n",
        "# Orders dataset\n",
        "orders_data = {\n",
        "    \"OrderID\": range(101, 107),\n",
        "    \"CustomerID\": [1, 2, 2, 3, 6, 2],   # Notice: customer 6 doesn't exist in Customers\n",
        "    \"Product\": [\"Pen\", \"Notebook\", \"Pen\", \"Backpack\", \"Calculator\", \"Pen\"],\n",
        "    \"Quantity\": [2, 1, 3, 1, 2, 5]\n",
        "}\n",
        "orders = pd.DataFrame(orders_data)\n",
        "\n",
        "print(\"Customers:\\n\", customers, \"\\n\")\n",
        "print(\"Orders:\\n\", orders, \"\\n\")\n",
        "\n",
        "# .info\n",
        "# isna().sum()\n",
        "# .nunique()\n",
        "# .value_counts()\n"
      ]
    },
    {
      "cell_type": "code",
      "source": [
        "# Shape of dataset\n",
        "print(\"Customers shape:\", customers.shape)\n",
        "\n",
        "# Data types\n",
        "print(\"\\nData types:\\n\", customers.dtypes)\n",
        "\n",
        "# Missing values\n",
        "print(\"\\nMissing values:\\n\", customers.isna().sum())\n",
        "\n",
        "# Unique IDs\n",
        "print(\"\\nUnique CustomerIDs:\", customers[\"CustomerID\"].nunique())\n",
        "print(\"Total rows:\", len(customers))\n",
        "\n",
        "# Check duplicates\n",
        "print(\"\\nDuplicate rows:\\n\", customers.duplicated().sum())\n"
      ],
      "metadata": {
        "colab": {
          "base_uri": "https://localhost:8080/"
        },
        "id": "TlGj7EpWugzf",
        "outputId": "4e064b27-fefe-4da6-e99b-5dc1cf4256b2"
      },
      "execution_count": null,
      "outputs": [
        {
          "output_type": "stream",
          "name": "stdout",
          "text": [
            "Customers shape: (5, 4)\n",
            "\n",
            "Data types:\n",
            " CustomerID             int64\n",
            "Name                  object\n",
            "Email                 object\n",
            "SignupDate    datetime64[ns]\n",
            "dtype: object\n",
            "\n",
            "Missing values:\n",
            " CustomerID    0\n",
            "Name          0\n",
            "Email         1\n",
            "SignupDate    1\n",
            "dtype: int64\n",
            "\n",
            "Unique CustomerIDs: 5\n",
            "Total rows: 5\n",
            "\n",
            "Duplicate rows:\n",
            " 0\n"
          ]
        }
      ]
    },
    {
      "cell_type": "code",
      "source": [
        "# Shape of dataset\n",
        "print(\"Orders shape:\", orders.shape)\n",
        "\n",
        "# Data types\n",
        "print(\"\\nData types:\\n\", orders.dtypes)\n",
        "\n",
        "# Missing values\n",
        "print(\"\\nMissing values:\\n\", orders.isna().sum())\n",
        "\n",
        "# Unique IDs\n",
        "print(\"\\nUnique OrderIDs:\", orders[\"OrderID\"].nunique())\n",
        "print(\"Total rows:\", len(orders))\n",
        "\n",
        "# Check duplicates\n",
        "print(\"\\nDuplicate rows:\\n\", orders.duplicated().sum())\n"
      ],
      "metadata": {
        "colab": {
          "base_uri": "https://localhost:8080/"
        },
        "id": "Mfhq4M2OuoKA",
        "outputId": "779eee13-c2d6-4eb1-e387-353c06a88997"
      },
      "execution_count": null,
      "outputs": [
        {
          "output_type": "stream",
          "name": "stdout",
          "text": [
            "Orders shape: (6, 4)\n",
            "\n",
            "Data types:\n",
            " OrderID        int64\n",
            "CustomerID     int64\n",
            "Product       object\n",
            "Quantity       int64\n",
            "dtype: object\n",
            "\n",
            "Missing values:\n",
            " OrderID       0\n",
            "CustomerID    0\n",
            "Product       0\n",
            "Quantity      0\n",
            "dtype: int64\n",
            "\n",
            "Unique OrderIDs: 6\n",
            "Total rows: 6\n",
            "\n",
            "Duplicate rows:\n",
            " 0\n"
          ]
        }
      ]
    },
    {
      "cell_type": "code",
      "source": [
        "# Check if each CustomerID in customers appears once in orders (one-to-one?)\n",
        "orders_per_customer = orders[\"CustomerID\"].value_counts()\n",
        "print(\"\\nOrders per customer:\\n\", orders_per_customer)\n",
        "\n",
        "# Customers with no orders\n",
        "no_orders = customers[~customers[\"CustomerID\"].isin(orders[\"CustomerID\"])]\n",
        "print(\"\\nCustomers with no orders:\\n\", no_orders)\n",
        "\n",
        "# Orders with invalid CustomerIDs\n",
        "invalid_customers = orders[~orders[\"CustomerID\"].isin(customers[\"CustomerID\"])]\n",
        "print(\"\\nOrders with CustomerIDs not in Customers:\\n\", invalid_customers)\n"
      ],
      "metadata": {
        "colab": {
          "base_uri": "https://localhost:8080/"
        },
        "id": "C191eWHPuq1h",
        "outputId": "4b3864f0-b873-4096-e901-716b54559474"
      },
      "execution_count": null,
      "outputs": [
        {
          "output_type": "stream",
          "name": "stdout",
          "text": [
            "\n",
            "Orders per customer:\n",
            " CustomerID\n",
            "2    3\n",
            "1    1\n",
            "3    1\n",
            "6    1\n",
            "Name: count, dtype: int64\n",
            "\n",
            "Customers with no orders:\n",
            "    CustomerID   Name            Email SignupDate\n",
            "3           4  Diana  diana@email.com 2024-05-01\n",
            "4           5  Ethan  ethan@email.com        NaT\n",
            "\n",
            "Orders with CustomerIDs not in Customers:\n",
            "    OrderID  CustomerID     Product  Quantity\n",
            "4      105           6  Calculator         2\n"
          ]
        }
      ]
    },
    {
      "cell_type": "code",
      "source": [
        "invalid_customers = orders[~orders[\"CustomerID\"].isin(customers[\"CustomerID\"])]\n",
        "print(\"\\nOrders with CustomerIDs not in Customers:\\n\", invalid_customers)"
      ],
      "metadata": {
        "colab": {
          "base_uri": "https://localhost:8080/"
        },
        "id": "ke3XeYzR6LAv",
        "outputId": "39b7098f-55de-4c10-bdd8-e48b056f6987"
      },
      "execution_count": null,
      "outputs": [
        {
          "output_type": "stream",
          "name": "stdout",
          "text": [
            "\n",
            "Orders with CustomerIDs not in Customers:\n",
            "    OrderID  CustomerID     Product  Quantity\n",
            "4      105           6  Calculator         2\n"
          ]
        }
      ]
    }
  ]
}